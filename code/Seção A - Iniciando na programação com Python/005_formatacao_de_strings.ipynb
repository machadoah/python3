{
 "cells": [
  {
   "cell_type": "markdown",
   "id": "ea6c6327-c71f-45d5-9317-76e0210be249",
   "metadata": {},
   "source": [
    "# Python (Lógica de programação básica) - formatação de strings"
   ]
  },
  {
   "cell_type": "markdown",
   "id": "f14fc1b3-fcb7-4280-b896-b8761e1eb832",
   "metadata": {},
   "source": [
    "**Uma introdução às f-strings (formatação de strings)**\n",
    "\n",
    "> Aula 13"
   ]
  },
  {
   "cell_type": "code",
   "execution_count": null,
   "id": "1f5a84d0-a65b-450b-9ab6-f1852c81c905",
   "metadata": {},
   "outputs": [],
   "source": [
    "nome = 'Antonio'\n",
    "cidade = 'Peruíbe'\n",
    "time = 'São Paulo'\n",
    "faculdade = 'Fatec'\n",
    "idade = 20"
   ]
  },
  {
   "cell_type": "code",
   "execution_count": null,
   "id": "860a12ea-eb31-4049-a197-aa6f7905bb9d",
   "metadata": {},
   "outputs": [],
   "source": [
    "frase = f\"\"\"\n",
    "O {nome} tem {idade} anos, torce para o {time}! \n",
    "\n",
    "Além disso, ele mora em {cidade}, e estuda na {faculdade}! \n",
    "\"\"\""
   ]
  },
  {
   "cell_type": "code",
   "execution_count": null,
   "id": "26d61b49-6ff4-4c39-9d93-a1cf3f90698c",
   "metadata": {},
   "outputs": [],
   "source": [
    "print(frase)"
   ]
  },
  {
   "cell_type": "markdown",
   "id": "06b35625-ab38-4a1f-892a-6ef5a71546d3",
   "metadata": {},
   "source": [
    "**Formatação de strings com o método format**\n",
    "\n",
    "> Aula 14"
   ]
  },
  {
   "cell_type": "code",
   "execution_count": null,
   "id": "5554edd6-2b7e-480d-9077-2f63002ef2ac",
   "metadata": {},
   "outputs": [],
   "source": [
    "a = 'A'\n",
    "b = 'B'\n",
    "c = 1.1\n",
    "formato = '{1}{0}{2}'.format(a, b, c)\n",
    "                            #0, 1, 2"
   ]
  },
  {
   "cell_type": "code",
   "execution_count": null,
   "id": "47abcde8-2711-417d-a3d0-aa1eab244d40",
   "metadata": {},
   "outputs": [],
   "source": [
    "print(formato) # BA1.1"
   ]
  },
  {
   "cell_type": "code",
   "execution_count": null,
   "id": "686a5997-2c0a-465b-b0fa-071b3c685d06",
   "metadata": {},
   "outputs": [],
   "source": [
    "string = 'a={} b={} c={:.2f}'\n",
    "formato = string.format(a, b, c)"
   ]
  },
  {
   "cell_type": "code",
   "execution_count": null,
   "id": "5103bbda-4d30-4b6b-9a09-ddd2f276b196",
   "metadata": {},
   "outputs": [],
   "source": [
    "print(formato)"
   ]
  },
  {
   "cell_type": "markdown",
   "id": "40b748cf-09c7-41ec-a1c3-ea141bdaa77a",
   "metadata": {},
   "source": [
    "Passando nomeando parametros:"
   ]
  },
  {
   "cell_type": "code",
   "execution_count": null,
   "id": "858a4364-ebce-4901-94cc-1eb9c0382bfd",
   "metadata": {},
   "outputs": [],
   "source": [
    "string = 'a={nome1} b={nome2} a={nome1} c={nome3:.2f}'\n",
    "formato = string.format(nome1=a, nome2=b, nome3=c)"
   ]
  },
  {
   "cell_type": "code",
   "execution_count": null,
   "id": "27ad4144-a475-4447-8e7f-8810205b6570",
   "metadata": {},
   "outputs": [],
   "source": [
    "formato"
   ]
  },
  {
   "cell_type": "markdown",
   "id": "73a6630e-804b-4fa5-a4c0-3fdf32984119",
   "metadata": {},
   "source": [
    "**Usando a função input para coletar dados do usuário**\n",
    "\n",
    "> Aula 15"
   ]
  },
  {
   "cell_type": "code",
   "execution_count": null,
   "id": "620bc03c-f9f8-4816-892c-3ad5a29b838f",
   "metadata": {},
   "outputs": [],
   "source": [
    "nome = input('qual o seu nome: ')"
   ]
  },
  {
   "cell_type": "code",
   "execution_count": null,
   "id": "a34d4351-fa2c-461c-a8c9-534de3d41a6b",
   "metadata": {},
   "outputs": [],
   "source": [
    "print(f'seu nome é {nome}')"
   ]
  },
  {
   "cell_type": "markdown",
   "id": "b538b03b-b842-45fb-a7c8-64211b94168c",
   "metadata": {},
   "source": [
    "Criando um 'somador'!"
   ]
  },
  {
   "cell_type": "code",
   "execution_count": null,
   "id": "a8f08732-5ab9-4182-aa88-a37a67baef3e",
   "metadata": {},
   "outputs": [],
   "source": [
    "print(\"\"\"\n",
    "Bem-vindo ao SOMADOR!! +++++++ somador ++++++++\n",
    "\n",
    "Sou muito bom em somar números! quer testar? bora!\n",
    "\n",
    "Vou te pedir dois números x e y, e irei soma-los!\n",
    "\"\"\")\n",
    "\n",
    "x = int(input('Digite o número x: '))\n",
    "y = int(input('Digite o número y: '))\n",
    "\n",
    "print(f'A soma de x e y é {x + y}')"
   ]
  }
 ],
 "metadata": {
  "kernelspec": {
   "display_name": "Python 3 (ipykernel)",
   "language": "python",
   "name": "python3"
  },
  "language_info": {
   "codemirror_mode": {
    "name": "ipython",
    "version": 3
   },
   "file_extension": ".py",
   "mimetype": "text/x-python",
   "name": "python",
   "nbconvert_exporter": "python",
   "pygments_lexer": "ipython3",
   "version": "3.12.5"
  }
 },
 "nbformat": 4,
 "nbformat_minor": 5
}
