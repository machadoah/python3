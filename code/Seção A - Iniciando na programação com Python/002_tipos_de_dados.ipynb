{
 "cells": [
  {
   "cell_type": "markdown",
   "id": "2c94a0b4-3aed-4145-b750-ff35b1fcf159",
   "metadata": {},
   "source": [
    "# Python (Lógica de programação básica) - Tipos de dados"
   ]
  },
  {
   "cell_type": "markdown",
   "id": "5d1bd5ed-14c9-4c9d-87d7-d36c1adfccee",
   "metadata": {},
   "source": [
    "**Tipo `str` (string)**\n",
    "\n",
    "> Aula 3"
   ]
  },
  {
   "cell_type": "markdown",
   "id": "4ecf982b-8f37-439e-8d73-15d93f1da328",
   "metadata": {},
   "source": [
    "Python = Linguagem de programação\n",
    "\n",
    "Tipo de liguagem = Dinâmica / Forte"
   ]
  },
  {
   "cell_type": "markdown",
   "id": "d97c4791-65e2-4fab-af9f-c5d67fc2f657",
   "metadata": {},
   "source": [
    "Strings são textos entre aspas."
   ]
  },
  {
   "cell_type": "code",
   "execution_count": null,
   "id": "265505d2-eafc-4049-a32a-b0d93fef50e7",
   "metadata": {},
   "outputs": [],
   "source": [
    "print('@machadoah')"
   ]
  },
  {
   "cell_type": "code",
   "execution_count": null,
   "id": "cf6af4a0-a7cd-4184-8018-6af5fa929f1b",
   "metadata": {},
   "outputs": [],
   "source": [
    "print(\"@machadoah\")"
   ]
  },
  {
   "cell_type": "code",
   "execution_count": null,
   "id": "99c55ca8-8f86-409e-99f1-484ff7010718",
   "metadata": {},
   "outputs": [],
   "source": [
    "print('Meu username é \"machadoah\"')"
   ]
  },
  {
   "cell_type": "code",
   "execution_count": null,
   "id": "ffdbb098-c875-416b-b885-50b71d224209",
   "metadata": {},
   "outputs": [],
   "source": [
    "print(\"Meu username é \\\"machadoah\\\"\") # \\\" representa o escape"
   ]
  },
  {
   "cell_type": "markdown",
   "id": "856f285e-bc03-4408-8c5f-8b57866a0073",
   "metadata": {},
   "source": [
    "**Tipo `int` e `float` (números)**\n",
    "\n",
    "> Aula 4"
   ]
  },
  {
   "cell_type": "markdown",
   "id": "c44ce5ea-f18c-4d7f-9bb0-1431996a208d",
   "metadata": {},
   "source": [
    "`int` -> Número inteiro\n",
    "\n",
    "O tipo `int` representa qualquer número positivo ou negativo. `int` sem sinal é considerado positivo."
   ]
  },
  {
   "cell_type": "code",
   "execution_count": null,
   "id": "eba25628-4865-4bc7-8a71-3b18d9aa4988",
   "metadata": {},
   "outputs": [],
   "source": [
    "print(11)"
   ]
  },
  {
   "cell_type": "code",
   "execution_count": null,
   "id": "1b2e6bb8-5299-437d-8ace-3f3b01efada0",
   "metadata": {},
   "outputs": [],
   "source": [
    "print(-11)"
   ]
  },
  {
   "cell_type": "code",
   "execution_count": null,
   "id": "3590a5d3-c4da-4eff-a7cb-98411c0a3550",
   "metadata": {},
   "outputs": [],
   "source": [
    "print(0)"
   ]
  },
  {
   "cell_type": "code",
   "execution_count": null,
   "id": "75dd6197-4b3c-4846-94c6-588f158dd86e",
   "metadata": {},
   "outputs": [],
   "source": [
    "print(type(1)) # <class 'int'>"
   ]
  },
  {
   "cell_type": "markdown",
   "id": "c17197e0-dfb6-4f2e-baec-58ecc44e6800",
   "metadata": {},
   "source": [
    "`float` -> Número com ponto flutuante\n",
    "\n",
    "O tipo `float` representa qualquer número positivo ou negativo com ponto flutuante. `float` sem sinal é considerado positivo."
   ]
  },
  {
   "cell_type": "code",
   "execution_count": null,
   "id": "6d3ac3b7-a114-4088-867a-16325d57700d",
   "metadata": {},
   "outputs": [],
   "source": [
    "print(1.1, 10.11)"
   ]
  },
  {
   "cell_type": "code",
   "execution_count": null,
   "id": "8d5cb6a8-ca24-4454-a247-695309fde98d",
   "metadata": {},
   "outputs": [],
   "source": [
    "print(type(1.1), type(10.11)) # <class 'float'>"
   ]
  },
  {
   "cell_type": "code",
   "execution_count": null,
   "id": "a08e9629-c345-4f3e-840e-dc9f687211d8",
   "metadata": {},
   "outputs": [],
   "source": [
    "print(type('@machadoah')) # <class 'str'>"
   ]
  },
  {
   "cell_type": "markdown",
   "id": "0b2ea267-b4ea-4a18-bc0a-3b942d1cd54d",
   "metadata": {},
   "source": [
    "A função `type` mostra o tipo que o Python inferiu o valor."
   ]
  },
  {
   "cell_type": "code",
   "execution_count": null,
   "id": "22c3781a-547e-4223-beec-22096451b37d",
   "metadata": {},
   "outputs": [],
   "source": [
    "print(type(13))"
   ]
  },
  {
   "cell_type": "markdown",
   "id": "b8cef827-0adf-44d5-a57a-3cf03b136d8c",
   "metadata": {},
   "source": [
    "**Tipo `bool` (boolean)**\n",
    "\n",
    "> Aula 5"
   ]
  },
  {
   "cell_type": "markdown",
   "id": "6b47f31b-3336-4043-a01f-3501c39feb19",
   "metadata": {},
   "source": [
    "Ao questionar algo em um programa, só existem duas respostas possíveis:\n",
    "- Sim (`True`)\n",
    "- Não (`False`)\n",
    "\n",
    "Existem vários operadores para \"questionar\". Dentre eles o `==`, que é um operador lógico que questiona se um valor é igual a outro."
   ]
  },
  {
   "cell_type": "code",
   "execution_count": null,
   "id": "47c3a8f2-3e4c-472a-bb40-bd673edc539d",
   "metadata": {},
   "outputs": [],
   "source": [
    "print(1 == 1) #  True"
   ]
  },
  {
   "cell_type": "code",
   "execution_count": null,
   "id": "d93162ce-b8e1-43b8-b54f-6818d5c3e95c",
   "metadata": {},
   "outputs": [],
   "source": [
    "print(10 == 1) # False"
   ]
  },
  {
   "cell_type": "code",
   "execution_count": null,
   "id": "fff69c56-f7ae-48b7-930a-705598c7d7f1",
   "metadata": {},
   "outputs": [],
   "source": [
    "print(type(10 == 1)) # <class 'bool'>"
   ]
  },
  {
   "cell_type": "markdown",
   "id": "2b3f20d7-6f0f-4b4b-aa90-4a470b3ef63f",
   "metadata": {},
   "source": [
    "**Conversão de tipos, coersão**\n",
    "\n",
    "> Aula 6"
   ]
  },
  {
   "cell_type": "markdown",
   "id": "1158b256-dbe9-427a-ad07-260f8b6cf52d",
   "metadata": {},
   "source": [
    "É o ato de converter um tipo em outro.\n",
    "\n",
    "Tipos imutáveis e primitivos: `str`,`int`,`float`,`bool`"
   ]
  },
  {
   "cell_type": "code",
   "execution_count": null,
   "id": "ffa45ee1-3a7f-4e75-bc89-d7a2125befca",
   "metadata": {},
   "outputs": [],
   "source": [
    "print(1 + '1')\n",
    "\n",
    "# TypeError: unsupported operand type(s) for +: 'int' and 'str'"
   ]
  },
  {
   "cell_type": "code",
   "execution_count": null,
   "id": "94887fc4-c6ad-43c1-8863-846b0dacf047",
   "metadata": {},
   "outputs": [],
   "source": [
    "print('a' + 'b') # concatena as strings"
   ]
  },
  {
   "cell_type": "code",
   "execution_count": null,
   "id": "0ed81bcf-b1d8-4900-b6d8-77c63e538813",
   "metadata": {},
   "outputs": [],
   "source": [
    "print(1 + int('1')) # 2"
   ]
  },
  {
   "cell_type": "code",
   "execution_count": null,
   "id": "2d738b10-626d-4742-811c-da3f25889003",
   "metadata": {},
   "outputs": [],
   "source": [
    "print(bool('')) # False"
   ]
  },
  {
   "cell_type": "code",
   "execution_count": null,
   "id": "58b3f8bd-8e3b-4d21-b520-19830bafbe10",
   "metadata": {},
   "outputs": [],
   "source": [
    "print(bool(' ')) # True"
   ]
  },
  {
   "cell_type": "code",
   "execution_count": null,
   "id": "3ea60d11-1185-44cf-ba3b-c8fda00258a0",
   "metadata": {},
   "outputs": [],
   "source": [
    "print(str(11) + 'b')"
   ]
  }
 ],
 "metadata": {
  "kernelspec": {
   "display_name": "Python 3 (ipykernel)",
   "language": "python",
   "name": "python3"
  },
  "language_info": {
   "codemirror_mode": {
    "name": "ipython",
    "version": 3
   },
   "file_extension": ".py",
   "mimetype": "text/x-python",
   "name": "python",
   "nbconvert_exporter": "python",
   "pygments_lexer": "ipython3",
   "version": "3.12.5"
  }
 },
 "nbformat": 4,
 "nbformat_minor": 5
}
