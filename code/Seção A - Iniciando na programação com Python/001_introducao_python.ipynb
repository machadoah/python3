{
 "cells": [
  {
   "cell_type": "markdown",
   "id": "6c793457-3f69-4a97-b969-bb066481550b",
   "metadata": {},
   "source": [
    "# Python (Lógica de programação básica) - Introdução ao Python"
   ]
  },
  {
   "cell_type": "markdown",
   "id": "081c81d3-0308-44ba-aa65-85fc3d1a5711",
   "metadata": {},
   "source": [
    "**Primeiro módulo Python(`.py`) + Interpretador Python e comentário de código**\n",
    "\n",
    "> Aula 1"
   ]
  },
  {
   "cell_type": "markdown",
   "id": "006eba24-9a3c-47a1-b8eb-656c1080b1ff",
   "metadata": {},
   "source": [
    "Aqui estamos usando um arquivo de notebook, ou seja, `.ipynb`, no curso é criado uma `.py`, mas por organização, usaremos celulas do notebook."
   ]
  },
  {
   "cell_type": "markdown",
   "id": "3f869ddb-2b27-47ad-9d3f-827ec1413aac",
   "metadata": {},
   "source": [
    "O simbolo de cerquilha (`#`) permite inserir trechos de comentário."
   ]
  },
  {
   "cell_type": "code",
   "execution_count": null,
   "id": "d0cd3d55-d961-4fb7-a71f-64b8d3d60de7",
   "metadata": {},
   "outputs": [],
   "source": [
    "# Antonio Henrique (@machadoah)\n",
    "print(123)\n",
    "\n",
    "# \"comentar\" mais de uma linha:\n",
    "\"\"\"\n",
    "DocString:\n",
    "Escrever o que eu quiser!\n",
    "\"\"\"\n",
    "\n",
    "'''\n",
    "Usar para escrever suas notas!\n",
    "'''\n",
    "\n",
    "print(456) # imprime 456"
   ]
  },
  {
   "cell_type": "markdown",
   "id": "6fd01a60-dc01-4d3c-9624-c3d6c84e34cd",
   "metadata": {},
   "source": [
    "**A função `print`**\n",
    "\n",
    "> Aula 2"
   ]
  },
  {
   "cell_type": "code",
   "execution_count": null,
   "id": "d3bada99-41a3-4b14-91f8-f0c445bb2a16",
   "metadata": {},
   "outputs": [],
   "source": [
    "print(12, 34)\n",
    "print(56, 78)"
   ]
  },
  {
   "cell_type": "code",
   "execution_count": null,
   "id": "5c0de9cb-82cb-42c7-88b6-d370429ee1fa",
   "metadata": {},
   "outputs": [],
   "source": [
    "print(12, 34, sep='-', end='\\n#####\\n')\n",
    "print(56, 78)"
   ]
  },
  {
   "cell_type": "markdown",
   "id": "4219efb0-746a-4437-aee0-16f4d26bdd71",
   "metadata": {},
   "source": [
    "- O `sep` é o argumento que altera o separador dos valores (default é `\" \"`).\n",
    "- O `end` é o argumento que altera o caracter final da linha (default é `\"\\n\"`)."
   ]
  }
 ],
 "metadata": {
  "kernelspec": {
   "display_name": "Python 3 (ipykernel)",
   "language": "python",
   "name": "python3"
  },
  "language_info": {
   "codemirror_mode": {
    "name": "ipython",
    "version": 3
   },
   "file_extension": ".py",
   "mimetype": "text/x-python",
   "name": "python",
   "nbconvert_exporter": "python",
   "pygments_lexer": "ipython3",
   "version": "3.12.5"
  }
 },
 "nbformat": 4,
 "nbformat_minor": 5
}
