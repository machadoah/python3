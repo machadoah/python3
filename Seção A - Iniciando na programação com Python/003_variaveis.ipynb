{
 "cells": [
  {
   "cell_type": "markdown",
   "id": "4351e0ff-4552-4c12-87fd-4f257d853f0e",
   "metadata": {},
   "source": [
    "# Python (Lógica de programação básica) - Introdução às variáveis em Python"
   ]
  },
  {
   "cell_type": "markdown",
   "id": "358f827b-b811-4c97-843f-8534ab89affd",
   "metadata": {},
   "source": [
    "**Introdução às Variáveis**\n",
    "\n",
    "> Aula 7"
   ]
  },
  {
   "cell_type": "markdown",
   "id": "98076946-95ff-41ee-8e85-14fd2e4235a0",
   "metadata": {},
   "source": [
    "Variáveis são usadas para salvar algo na memória do computador. \n",
    "\n",
    "[PEP8](https://pep8.org/): inicie variáveis com letras minúsculas, pode usar números e underline `_`.\n",
    "\n",
    "O sinal de `=` é o operador de atribuição. Ele é usado para atribuir um valor a um nome (variável).\n",
    "\n",
    "Exemplo de uso: \n",
    "```\n",
    "nome_variavel = expressão\n",
    "```"
   ]
  },
  {
   "cell_type": "code",
   "execution_count": null,
   "id": "3a5e4a8f-24e0-44e4-be88-62d1acba0c70",
   "metadata": {},
   "outputs": [],
   "source": [
    "nome_completo = 'Antonio Henrique Machado'"
   ]
  },
  {
   "cell_type": "code",
   "execution_count": null,
   "id": "d5f494d8-bf55-48d2-b917-0258d9dfe5a8",
   "metadata": {},
   "outputs": [],
   "source": [
    "print(nome_completo)"
   ]
  },
  {
   "cell_type": "code",
   "execution_count": null,
   "id": "1aa62754-712c-409a-a5cb-6322033a94d1",
   "metadata": {},
   "outputs": [],
   "source": [
    "username = 'machadoah'"
   ]
  },
  {
   "cell_type": "code",
   "execution_count": null,
   "id": "2c11868f-23e0-49b9-87fd-17b96991f477",
   "metadata": {},
   "outputs": [],
   "source": [
    "print(f'O usuário {nome_completo} possui o {username=}')"
   ]
  },
  {
   "cell_type": "markdown",
   "id": "6b1b8238-a951-4a74-a1a0-120a56f5b653",
   "metadata": {},
   "source": [
    "Verificando se é maior de idade:"
   ]
  },
  {
   "cell_type": "code",
   "execution_count": null,
   "id": "3ba6a527-c521-4554-8e4e-d00fd90b2cd8",
   "metadata": {},
   "outputs": [],
   "source": [
    "nome = nome_completo.split(' ')[0]"
   ]
  },
  {
   "cell_type": "code",
   "execution_count": null,
   "id": "36b0322b-bf3f-4fd3-8fda-61cbe8524f62",
   "metadata": {},
   "outputs": [],
   "source": [
    "idade = 20"
   ]
  },
  {
   "cell_type": "code",
   "execution_count": null,
   "id": "6adba21b-dca9-4742-b141-8da63318ab56",
   "metadata": {},
   "outputs": [],
   "source": [
    "maior_de_idade = idade >= 18"
   ]
  },
  {
   "cell_type": "code",
   "execution_count": null,
   "id": "f6bdb01a-0b27-4a77-a77b-736747737c60",
   "metadata": {},
   "outputs": [],
   "source": [
    "print('Nome:', nome, '\\nIdade:', idade)"
   ]
  },
  {
   "cell_type": "code",
   "execution_count": null,
   "id": "fe889480-d7df-43c8-851e-8952e6fce27b",
   "metadata": {},
   "outputs": [],
   "source": [
    "print(f'{nome} é maior de idade!') if maior_de_idade else print(f'{nome} é menor de idade!')"
   ]
  },
  {
   "cell_type": "markdown",
   "id": "cb90caa4-9d72-4b39-ae23-61597b512930",
   "metadata": {},
   "source": [
    "**Exercicio com variáveis e tipos de dados**\n",
    "\n",
    "> Aula 8"
   ]
  },
  {
   "cell_type": "code",
   "execution_count": null,
   "id": "0dd7ebc8-f032-471f-81b7-ce6792ad62c5",
   "metadata": {},
   "outputs": [],
   "source": [
    "from datetime import date"
   ]
  },
  {
   "cell_type": "code",
   "execution_count": null,
   "id": "9ccb00f3-e78e-402d-b3af-3b9b4116c929",
   "metadata": {},
   "outputs": [],
   "source": [
    "nome = input('Insira seu nome: ')\n",
    "sobrenome = input('Insira seu sobrenome: ')\n",
    "ano_nascimento = int(input('Insira seu ano de nascimento (e.g. com 4 digitos: 2002, 2001, 2004): '))\n",
    "altura_metros = float(input('Insira sua altura: '))"
   ]
  },
  {
   "cell_type": "code",
   "execution_count": null,
   "id": "7e33e953-9e37-4907-b98e-a52cdcb8e4bc",
   "metadata": {},
   "outputs": [],
   "source": [
    "idade = date.today().year - ano_nascimento\n",
    "\n",
    "is_maior_de_idade = True if idade >= 18 else False "
   ]
  },
  {
   "cell_type": "code",
   "execution_count": null,
   "id": "d29942c2-09f2-44e8-920f-40eddc0d246e",
   "metadata": {},
   "outputs": [],
   "source": [
    "print('Nome:', nome)\n",
    "print('Sobrenome:', sobrenome)\n",
    "print('Idade:', idade)\n",
    "print('Ano de nascimento:', ano_nascimento)\n",
    "print('É maior de idade?:', is_maior_de_idade)\n",
    "print('Altura em metros:', altura_metros)"
   ]
  }
 ],
 "metadata": {
  "kernelspec": {
   "display_name": "Python 3 (ipykernel)",
   "language": "python",
   "name": "python3"
  },
  "language_info": {
   "codemirror_mode": {
    "name": "ipython",
    "version": 3
   },
   "file_extension": ".py",
   "mimetype": "text/x-python",
   "name": "python",
   "nbconvert_exporter": "python",
   "pygments_lexer": "ipython3",
   "version": "3.12.5"
  }
 },
 "nbformat": 4,
 "nbformat_minor": 5
}
