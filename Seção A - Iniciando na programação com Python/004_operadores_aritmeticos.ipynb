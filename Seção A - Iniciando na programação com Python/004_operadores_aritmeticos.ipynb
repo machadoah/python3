{
 "cells": [
  {
   "cell_type": "markdown",
   "id": "7ab007ef-65ee-4077-a7f0-9816e28ce8d9",
   "metadata": {},
   "source": [
    "# Python (Lógica de programação básica) - Operadores aritméticos"
   ]
  },
  {
   "cell_type": "markdown",
   "id": "175f9ceb-734e-4b86-aa41-78c7fd4cde09",
   "metadata": {},
   "source": [
    "**Introdução aos operadores aritméticos (matemática)**\n",
    "\n",
    "> Aula 9"
   ]
  },
  {
   "cell_type": "markdown",
   "id": "37534241-8f3a-4fec-a578-8b82986fdc8d",
   "metadata": {},
   "source": [
    "**Adição (`+`)**"
   ]
  },
  {
   "cell_type": "code",
   "execution_count": null,
   "id": "90471a1f-5808-46e8-aeeb-478b6bd3ec1e",
   "metadata": {},
   "outputs": [],
   "source": [
    "adicao = 10 + 10"
   ]
  },
  {
   "cell_type": "code",
   "execution_count": null,
   "id": "005b5134-0d05-45fa-ae7e-2d355ae9669d",
   "metadata": {},
   "outputs": [],
   "source": [
    "adicao"
   ]
  },
  {
   "cell_type": "markdown",
   "id": "2309531d-7f47-4383-a176-45d58799378e",
   "metadata": {},
   "source": [
    "**Subtração (`-`)**"
   ]
  },
  {
   "cell_type": "code",
   "execution_count": null,
   "id": "a6c23185-3908-42e7-b672-b32a37ad1693",
   "metadata": {},
   "outputs": [],
   "source": [
    "subtracao = 10 - 10"
   ]
  },
  {
   "cell_type": "code",
   "execution_count": null,
   "id": "ba29aa23-fe6a-41c3-935b-5508f11e3210",
   "metadata": {},
   "outputs": [],
   "source": [
    "subtracao"
   ]
  },
  {
   "cell_type": "markdown",
   "id": "301e3c97-1ed5-4cd4-9564-fcbba7f535af",
   "metadata": {},
   "source": [
    "**Multiplicação (`*`)**"
   ]
  },
  {
   "cell_type": "code",
   "execution_count": null,
   "id": "9ad4a67a-eec4-41b8-a4e3-7b85faca65b3",
   "metadata": {},
   "outputs": [],
   "source": [
    "multiplicacao = 2 * 5"
   ]
  },
  {
   "cell_type": "code",
   "execution_count": null,
   "id": "ab730456-eff8-4e46-840c-5984ec93aa44",
   "metadata": {},
   "outputs": [],
   "source": [
    "multiplicacao"
   ]
  },
  {
   "cell_type": "markdown",
   "id": "e3e64da5-85f2-4255-96e0-f4299ebe1e56",
   "metadata": {},
   "source": [
    "**Divisão (`/`)**"
   ]
  },
  {
   "cell_type": "code",
   "execution_count": null,
   "id": "2292e9b7-15d4-4e20-837b-7ce0a9af405d",
   "metadata": {},
   "outputs": [],
   "source": [
    "divisao = 10 / 3 # float 3.33333333"
   ]
  },
  {
   "cell_type": "code",
   "execution_count": null,
   "id": "44c8eacc-3cb1-4e44-a6f7-c9efe965c96d",
   "metadata": {},
   "outputs": [],
   "source": [
    "divisao"
   ]
  },
  {
   "cell_type": "markdown",
   "id": "2cd43708-a171-41a8-b353-678730859316",
   "metadata": {},
   "source": [
    "**Divisão Inteira - div (`//`)**"
   ]
  },
  {
   "cell_type": "code",
   "execution_count": null,
   "id": "606edf84-a31a-4195-a3e7-e05aa0c7bc6a",
   "metadata": {},
   "outputs": [],
   "source": [
    "divisao_inteira = 10 // 3 # int 3"
   ]
  },
  {
   "cell_type": "code",
   "execution_count": null,
   "id": "4f16208e-50fa-4b72-b0e3-225fb91c4a34",
   "metadata": {},
   "outputs": [],
   "source": [
    "divisao_inteira"
   ]
  },
  {
   "cell_type": "markdown",
   "id": "fb9f550e-847e-41d5-a629-85281af867bf",
   "metadata": {},
   "source": [
    "**Exponenciação (`**`)**"
   ]
  },
  {
   "cell_type": "code",
   "execution_count": null,
   "id": "22677534-f290-4e51-a7d7-6fb8d7ae6f39",
   "metadata": {},
   "outputs": [],
   "source": [
    "exponenciacao = 2 ** 10"
   ]
  },
  {
   "cell_type": "code",
   "execution_count": null,
   "id": "2873d380-6541-42a7-8872-f63cb3d6485f",
   "metadata": {},
   "outputs": [],
   "source": [
    "exponenciacao"
   ]
  },
  {
   "cell_type": "markdown",
   "id": "41fdcc3a-bcc5-4d56-b859-1fead712befb",
   "metadata": {},
   "source": [
    "**Resto - mod (`%`)**"
   ]
  },
  {
   "cell_type": "code",
   "execution_count": null,
   "id": "5925ac0e-82a0-4f8c-b5e8-a384b8d71111",
   "metadata": {},
   "outputs": [],
   "source": [
    "modulo = 25 % 5"
   ]
  },
  {
   "cell_type": "code",
   "execution_count": null,
   "id": "c1c7cad7-5ddb-43a6-99d2-173a7407be71",
   "metadata": {},
   "outputs": [],
   "source": [
    "modulo"
   ]
  },
  {
   "cell_type": "markdown",
   "id": "be4bbb5b-763b-4a3d-a037-71bc458f5804",
   "metadata": {},
   "source": [
    "**Concatenação (`+`) e repetição (`*`) com operadores aritméticos**\n",
    "\n",
    "> Aula 10"
   ]
  },
  {
   "cell_type": "markdown",
   "id": "7095f836-c116-441c-9720-518353460953",
   "metadata": {},
   "source": [
    "- Concatenação"
   ]
  },
  {
   "cell_type": "code",
   "execution_count": null,
   "id": "be4f7844-a56b-4ea4-b0e4-113b8aa2fa88",
   "metadata": {},
   "outputs": [],
   "source": [
    "concatenacao = 'A' + 'B' + 'C'\n",
    "print(concatenacao)"
   ]
  },
  {
   "cell_type": "markdown",
   "id": "0c7204cb-f159-4ac6-84a6-bb1d5170c910",
   "metadata": {},
   "source": [
    "- Repetição"
   ]
  },
  {
   "cell_type": "code",
   "execution_count": null,
   "id": "adfb70e8-c12e-4069-89a8-977052d79fd1",
   "metadata": {},
   "outputs": [],
   "source": [
    "a_dez_vezes = 3 * '@machadoah'"
   ]
  },
  {
   "cell_type": "code",
   "execution_count": null,
   "id": "cbeb81f0-3bda-4aba-b750-bab04743f916",
   "metadata": {},
   "outputs": [],
   "source": [
    "a_dez_vezes"
   ]
  },
  {
   "cell_type": "markdown",
   "id": "f76b10d1-9933-43b7-936b-bcad9d782c46",
   "metadata": {},
   "source": [
    "**Precedência entre operadores aritméticos**\n",
    "\n",
    "> Aula 11"
   ]
  },
  {
   "cell_type": "markdown",
   "id": "3253789c-3eaa-4296-8dfd-ae0ac743275e",
   "metadata": {},
   "source": [
    "| Posição | operação   |\n",
    "| ------- | ---------- |\n",
    "| 1º      | $(n + n)$  |\n",
    "| 2º      | `**`       |\n",
    "| 3º      | `*`, `/`, `//` e `%` |\n",
    "| 4º      | `+` e `-`  |"
   ]
  },
  {
   "cell_type": "code",
   "execution_count": null,
   "id": "4c7c9a3e-ef65-440a-8ac0-b8c1550fed45",
   "metadata": {},
   "outputs": [],
   "source": [
    "conta_1 = 1 + 1 ** 5 + 5 # 7"
   ]
  },
  {
   "cell_type": "code",
   "execution_count": null,
   "id": "b57117e6-a9ce-421c-94dd-8cb4ba9dc13b",
   "metadata": {},
   "outputs": [],
   "source": [
    "conta_1"
   ]
  },
  {
   "cell_type": "code",
   "execution_count": null,
   "id": "d2548ca4-0a1e-4965-b982-a3ae1a020a6b",
   "metadata": {},
   "outputs": [],
   "source": [
    "conta_2 = (1 + 1) ** (5 + 5) # 1024"
   ]
  },
  {
   "cell_type": "code",
   "execution_count": null,
   "id": "fe92c7e7-87f9-4120-8c76-933cc21f26fa",
   "metadata": {},
   "outputs": [],
   "source": [
    "conta_2"
   ]
  },
  {
   "cell_type": "markdown",
   "id": "91b4d96b-27cb-437a-b6d0-7728c4ccf740",
   "metadata": {},
   "source": [
    "**Exercicio de programação - Cálculo do IMC (índice de massa corpórea) + Ellipsis**\n",
    "\n",
    "> Aula 12"
   ]
  },
  {
   "cell_type": "markdown",
   "id": "3897915c-33cc-420b-adca-5fcdfb46bd03",
   "metadata": {},
   "source": [
    "O IMC é medido por:\n",
    "\n",
    "$$\n",
    "IMC = \\dfrac{peso}{altura \\times altura}\n",
    "$$"
   ]
  },
  {
   "cell_type": "code",
   "execution_count": null,
   "id": "14506d4d-42ad-4b60-aa14-40020a15d1b1",
   "metadata": {},
   "outputs": [],
   "source": [
    "nome = input('Forneça seu nome: ')\n",
    "altura = float(input('Forneça sua altura: '))\n",
    "peso = int(input('Forneça seu peso: '))"
   ]
  },
  {
   "cell_type": "code",
   "execution_count": null,
   "id": "ca116888-478b-48a7-b68e-c9e39fc7e532",
   "metadata": {},
   "outputs": [],
   "source": [
    "imc = peso / (altura ** 2)\n",
    "\n",
    "print(f'O IMC de {nome} é {imc:.2f}')"
   ]
  },
  {
   "cell_type": "markdown",
   "id": "e740a856-6277-40bb-bda3-059719a56383",
   "metadata": {},
   "source": [
    "Ellipsis:\n",
    "\n",
    "É usado como placeholder. \n",
    "```\n",
    "...\n",
    "```"
   ]
  }
 ],
 "metadata": {
  "kernelspec": {
   "display_name": "Python 3 (ipykernel)",
   "language": "python",
   "name": "python3"
  },
  "language_info": {
   "codemirror_mode": {
    "name": "ipython",
    "version": 3
   },
   "file_extension": ".py",
   "mimetype": "text/x-python",
   "name": "python",
   "nbconvert_exporter": "python",
   "pygments_lexer": "ipython3",
   "version": "3.12.5"
  }
 },
 "nbformat": 4,
 "nbformat_minor": 5
}
